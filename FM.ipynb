{
 "cells": [
  {
   "cell_type": "code",
   "execution_count": 27,
   "metadata": {},
   "outputs": [],
   "source": [
    "import random\n",
    "import pandas as pd\n",
    "import numpy as np\n",
    "import torch\n",
    "import torch.nn as nn\n",
    "import torch.nn.functional as F\n",
    "from torch.utils.data import Dataset, DataLoader\n",
    "from sklearn.metrics import roc_auc_score\n",
    "import matplotlib.pyplot as plt\n",
    "import tqdm"
   ]
  },
  {
   "cell_type": "code",
   "execution_count": 28,
   "metadata": {},
   "outputs": [],
   "source": [
    "if torch.cuda.is_available():\n",
    "    device = torch.device('cuda')\n",
    "elif hasattr(torch.backends, 'mps') and torch.backends.mps.is_available():\n",
    "    device = torch.device('mps')\n",
    "else:\n",
    "    device = torch.device('cpu')\n"
   ]
  },
  {
   "cell_type": "code",
   "execution_count": 29,
   "metadata": {},
   "outputs": [],
   "source": [
    "\n",
    "\n",
    "class MovieLensDataset(Dataset):\n",
    "    def __init__(self, path):\n",
    "        data = pd.read_csv(path, sep=\"\\t\").values\n",
    "        self.items = data[:, :2].astype(np.int32) - 1  # -1 because ID begins from 1\n",
    "        self.targets = self.__preprocess_target(data[:, 2]).astype(np.float32)\n",
    "        self.field_dims = np.max(self.items, axis=0) + 1\n",
    "        self.user_field_idx = np.array((0, ), dtype=np.int32)\n",
    "        self.item_field_idx = np.array((1,), dtype=np.int32)\n",
    "\n",
    "    def __len__(self):\n",
    "        return self.items.shape[0]\n",
    "\n",
    "    def __getitem__(self, index):\n",
    "        return self.items[index], self.targets[index]\n",
    "\n",
    "    def __preprocess_target(self, target):\n",
    "        # return target\n",
    "        target[target <= 3] = 0\n",
    "        target[target > 3] = 1\n",
    "        return target"
   ]
  },
  {
   "cell_type": "code",
   "execution_count": 30,
   "metadata": {},
   "outputs": [],
   "source": [
    "class FM(nn.Module):\n",
    "    def __init__(self, field_dims, dim = 10):\n",
    "        super().__init__()\n",
    "        self.embedding = torch.nn.Embedding(sum(field_dims), dim)\n",
    "        self.fc = torch.nn.Embedding(sum(field_dims), 1)\n",
    "        self.bias = torch.nn.Parameter(torch.zeros((1,)))\n",
    "\n",
    "    def forward(self, x):\n",
    "        square_of_sum = torch.sum(self.embedding(x), dim=1) ** 2\n",
    "        sum_of_square = torch.sum(self.embedding(x) ** 2, dim=1)\n",
    "        ix = 0.5 * (square_of_sum - sum_of_square)\n",
    "        ix = torch.sum(ix, dim=1, keepdim=True)\n",
    "        x = self.bias + torch.sum(self.fc(x), dim=1) + ix\n",
    "        return torch.sigmoid(x.squeeze(1))"
   ]
  },
  {
   "cell_type": "code",
   "execution_count": 31,
   "metadata": {},
   "outputs": [],
   "source": [
    "def train(model, optimizer, data_loader, criterion, device, log_interval=100):\n",
    "    model.train()\n",
    "    total_loss = 0\n",
    "    tk0 = tqdm.tqdm(data_loader, smoothing=0, mininterval=1.0)\n",
    "    for i, (fields, target) in enumerate(tk0):\n",
    "        fields, target = fields.to(device), target.to(device)\n",
    "        y = model(fields)\n",
    "        loss = criterion(y, target)\n",
    "        model.zero_grad()\n",
    "        loss.backward()\n",
    "        optimizer.step()\n",
    "        total_loss += loss.item()\n",
    "        if (i + 1) % log_interval == 0:\n",
    "            tk0.set_postfix(loss=total_loss / log_interval)\n",
    "            total_loss = 0\n",
    "\n",
    "def test(model, data_loader, device):\n",
    "    model.eval()\n",
    "    targets, predicts = [], []\n",
    "    with torch.no_grad():\n",
    "        for i, (x, y) in enumerate(data_loader):\n",
    "            x, y = x.to(device), y.to(device)\n",
    "            y_hat = model(x)\n",
    "            targets.extend(y.tolist())\n",
    "            predicts.extend(y_hat.tolist())\n",
    "    return roc_auc_score(targets, predicts)"
   ]
  },
  {
   "cell_type": "code",
   "execution_count": 32,
   "metadata": {},
   "outputs": [],
   "source": [
    "dataset = MovieLensDataset(\"../data/ml-100k/u.data\")\n",
    "\n",
    "train_length = int(len(dataset) * 0.8)\n",
    "valid_length = int(len(dataset) * 0.1)\n",
    "test_length = len(dataset) - train_length - valid_length\n",
    "\n",
    "train_dataset, valid_dataset, test_dataset = torch.utils.data.random_split(\n",
    "    dataset, (train_length, valid_length, test_length)\n",
    ")\n",
    "\n",
    "train_data_loader = DataLoader(train_dataset, batch_size=32)\n",
    "valid_data_loader = DataLoader(valid_dataset, batch_size=32)\n",
    "test_data_loader = DataLoader(test_dataset, batch_size=32)\n",
    "\n",
    "field_dims = dataset.field_dims"
   ]
  },
  {
   "cell_type": "code",
   "execution_count": 34,
   "metadata": {},
   "outputs": [
    {
     "name": "stdout",
     "output_type": "stream",
     "text": [
      "FM\n"
     ]
    },
    {
     "name": "stderr",
     "output_type": "stream",
     "text": [
      "  0%|          | 0/2500 [00:00<?, ?it/s]"
     ]
    },
    {
     "name": "stderr",
     "output_type": "stream",
     "text": [
      "100%|██████████| 2500/2500 [00:30<00:00, 81.77it/s, loss=0.687]\n",
      "100%|██████████| 2500/2500 [00:16<00:00, 150.08it/s, loss=0.611]\n",
      "100%|██████████| 2500/2500 [00:17<00:00, 144.25it/s, loss=0.583]\n",
      "100%|██████████| 2500/2500 [00:17<00:00, 145.39it/s, loss=0.565]\n",
      "100%|██████████| 2500/2500 [00:16<00:00, 147.06it/s, loss=0.555]\n",
      "100%|██████████| 2500/2500 [00:17<00:00, 140.11it/s, loss=0.549]\n",
      "100%|██████████| 2500/2500 [00:17<00:00, 143.65it/s, loss=0.544]\n",
      "100%|██████████| 2500/2500 [00:18<00:00, 137.86it/s, loss=0.541]\n",
      "100%|██████████| 2500/2500 [00:17<00:00, 143.21it/s, loss=0.539]\n",
      "100%|██████████| 2500/2500 [00:16<00:00, 147.49it/s, loss=0.538]\n"
     ]
    },
    {
     "name": "stdout",
     "output_type": "stream",
     "text": [
      "test auc: 0.6722590109376825\n"
     ]
    }
   ],
   "source": [
    "model = FM(field_dims, 16).to(device)\n",
    "print(model.__class__.__name__)\n",
    "criterion = torch.nn.BCELoss()\n",
    "optimizer = torch.optim.Adam(params=model.parameters(), lr=0.01, weight_decay=1e-5)\n",
    "\n",
    "for epoch_i in range(10):\n",
    "    train(model, optimizer, train_data_loader, criterion, device)\n",
    "    auc = test(model, valid_data_loader, device)\n",
    "test_auc = test(model, test_data_loader, device)\n",
    "print(\"test auc:\", test_auc)"
   ]
  }
 ],
 "metadata": {
  "kernelspec": {
   "display_name": "graph",
   "language": "python",
   "name": "python3"
  },
  "language_info": {
   "codemirror_mode": {
    "name": "ipython",
    "version": 3
   },
   "file_extension": ".py",
   "mimetype": "text/x-python",
   "name": "python",
   "nbconvert_exporter": "python",
   "pygments_lexer": "ipython3",
   "version": "3.10.9"
  }
 },
 "nbformat": 4,
 "nbformat_minor": 2
}
