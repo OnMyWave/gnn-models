{
 "cells": [
  {
   "cell_type": "code",
   "execution_count": 60,
   "metadata": {},
   "outputs": [],
   "source": [
    "import pandas as pd\n",
    "import numpy as np\n",
    "import torch\n",
    "import torch.nn as nn\n",
    "import torch.functional as F\n",
    "import matplotlib.pyplot as plt"
   ]
  },
  {
   "cell_type": "code",
   "execution_count": 61,
   "metadata": {},
   "outputs": [],
   "source": [
    "if torch.cuda.is_available():\n",
    "    device = torch.device('cuda')\n",
    "elif hasattr(torch.backends, 'mps') and torch.backends.mps.is_available():\n",
    "    device = torch.device('mps')\n",
    "else:\n",
    "    device = torch.device('cpu')\n"
   ]
  },
  {
   "cell_type": "code",
   "execution_count": 62,
   "metadata": {},
   "outputs": [],
   "source": [
    "path = '../data/ml-1m/'\n",
    "\n",
    "movies = pd.read_csv(path + 'movies.dat', sep = '::', engine = 'python', encoding = 'latin-1', names = ['movie_id', 'title', 'genres'])\n",
    "ratings = pd.read_csv(path + 'ratings.dat', sep = '::', engine = 'python', encoding = 'latin-1', names = ['user_id', 'movie_id', 'rating', 'time'])\n",
    "users = pd.read_csv(path + 'users.dat', sep = '::', engine = 'python', encoding = 'latin-1', names = ['user_id', 'gender', 'age', 'occupation', 'zipcode'])\n"
   ]
  },
  {
   "cell_type": "code",
   "execution_count": 63,
   "metadata": {},
   "outputs": [
    {
     "data": {
      "text/html": [
       "<div>\n",
       "<style scoped>\n",
       "    .dataframe tbody tr th:only-of-type {\n",
       "        vertical-align: middle;\n",
       "    }\n",
       "\n",
       "    .dataframe tbody tr th {\n",
       "        vertical-align: top;\n",
       "    }\n",
       "\n",
       "    .dataframe thead th {\n",
       "        text-align: right;\n",
       "    }\n",
       "</style>\n",
       "<table border=\"1\" class=\"dataframe\">\n",
       "  <thead>\n",
       "    <tr style=\"text-align: right;\">\n",
       "      <th></th>\n",
       "      <th>movie_id</th>\n",
       "      <th>title</th>\n",
       "      <th>genres</th>\n",
       "    </tr>\n",
       "  </thead>\n",
       "  <tbody>\n",
       "    <tr>\n",
       "      <th>0</th>\n",
       "      <td>1</td>\n",
       "      <td>Toy Story (1995)</td>\n",
       "      <td>Animation|Children's|Comedy</td>\n",
       "    </tr>\n",
       "    <tr>\n",
       "      <th>1</th>\n",
       "      <td>2</td>\n",
       "      <td>Jumanji (1995)</td>\n",
       "      <td>Adventure|Children's|Fantasy</td>\n",
       "    </tr>\n",
       "    <tr>\n",
       "      <th>2</th>\n",
       "      <td>3</td>\n",
       "      <td>Grumpier Old Men (1995)</td>\n",
       "      <td>Comedy|Romance</td>\n",
       "    </tr>\n",
       "    <tr>\n",
       "      <th>3</th>\n",
       "      <td>4</td>\n",
       "      <td>Waiting to Exhale (1995)</td>\n",
       "      <td>Comedy|Drama</td>\n",
       "    </tr>\n",
       "    <tr>\n",
       "      <th>4</th>\n",
       "      <td>5</td>\n",
       "      <td>Father of the Bride Part II (1995)</td>\n",
       "      <td>Comedy</td>\n",
       "    </tr>\n",
       "  </tbody>\n",
       "</table>\n",
       "</div>"
      ],
      "text/plain": [
       "   movie_id                               title                        genres\n",
       "0         1                    Toy Story (1995)   Animation|Children's|Comedy\n",
       "1         2                      Jumanji (1995)  Adventure|Children's|Fantasy\n",
       "2         3             Grumpier Old Men (1995)                Comedy|Romance\n",
       "3         4            Waiting to Exhale (1995)                  Comedy|Drama\n",
       "4         5  Father of the Bride Part II (1995)                        Comedy"
      ]
     },
     "execution_count": 63,
     "metadata": {},
     "output_type": "execute_result"
    }
   ],
   "source": [
    "movies.head()"
   ]
  },
  {
   "cell_type": "code",
   "execution_count": 64,
   "metadata": {},
   "outputs": [],
   "source": [
    "movies['year'] = movies['title'].apply(lambda x: x.split('(')[1][:4])"
   ]
  },
  {
   "cell_type": "code",
   "execution_count": 65,
   "metadata": {},
   "outputs": [],
   "source": [
    "pivot_matrix = ratings.pivot(index='user_id', columns='movie_id', values='rating')\n",
    "original_rating_matrix = ratings.pivot(index='user_id', columns='movie_id', values='rating')\n",
    "\n",
    "n_users, n_movies = pivot_matrix.values.shape\n",
    "pivot_notna = pivot_matrix.notna()"
   ]
  },
  {
   "cell_type": "code",
   "execution_count": 66,
   "metadata": {},
   "outputs": [],
   "source": [
    "import random\n",
    "random.seed(42)\n",
    "def train_test_split(matrix, ratio):\n",
    "    true_indices = np.argwhere(matrix)\n",
    "\n",
    "    num_test = int(len(true_indices) * ratio)\n",
    "    np.random.shuffle(true_indices)\n",
    "\n",
    "    test_indices = true_indices[:num_test]\n",
    "    train_indices = true_indices[num_test:]\n",
    "\n",
    "    train_dataset, test_dataset = np.zeros_like(matrix), np.zeros_like(matrix)\n",
    "\n",
    "    for i in range(len(test_indices)):\n",
    "        row_idx, column_idx = test_indices[i]\n",
    "        test_dataset[row_idx, column_idx] = 1\n",
    "    \n",
    "    for i in range(len(train_indices)):\n",
    "        row_idx, column_idx = train_indices[i]\n",
    "        train_dataset[row_idx, column_idx] = 1\n",
    "\n",
    "    return train_dataset, test_dataset\n",
    "\n",
    "bin_train_data, bin_test_data = train_test_split(pivot_notna, 0.1)"
   ]
  },
  {
   "cell_type": "code",
   "execution_count": 67,
   "metadata": {},
   "outputs": [],
   "source": [
    "def leave_one_out(matrix):\n",
    "    n_rows, _ = matrix.shape\n",
    "    train_indices, test_indices = [], []\n",
    "\n",
    "    for i in range(n_rows):\n",
    "        true_indices = np.argwhere(matrix[i, :])\n",
    "        test_index = np.random.choice(true_indices.shape[0])\n",
    "        test_indices.append([i,true_indices[test_index]])\n",
    "        true_indices = np.delete(true_indices, test_index)\n",
    "        row_train_indices = [[i, j] for j in true_indices.tolist()]\n",
    "        train_indices += row_train_indices\n",
    "        \n",
    "    train_dataset, test_dataset = np.zeros_like(matrix), np.zeros_like(matrix)\n",
    "    \n",
    "    for i in range(len(test_indices)):\n",
    "        row_idx, column_idx = test_indices[i]\n",
    "        test_dataset[row_idx, column_idx] = 1\n",
    "    \n",
    "    for i in range(len(train_indices)):\n",
    "        row_idx, column_idx = train_indices[i]\n",
    "        train_dataset[row_idx, column_idx] = 1\n",
    "\n",
    "    return train_dataset, test_dataset\n",
    "\n",
    "loo_train_data, loo_test_data = leave_one_out(pivot_notna.values)"
   ]
  },
  {
   "cell_type": "code",
   "execution_count": 68,
   "metadata": {},
   "outputs": [],
   "source": [
    "class RMSELoss(nn.Module):\n",
    "    def __init__(self):\n",
    "        super(RMSELoss,self).__init__()\n",
    "\n",
    "    def forward(self, prediction, rating_matrix):\n",
    "        non_zero_mask = (rating_matrix != -1).type(torch.FloatTensor)\n",
    "        diff = (prediction - rating_matrix)**2\n",
    "        prediction_error = (torch.sum(diff*non_zero_mask)/non_zero_mask.sum()) ** (1/2)\n",
    "        return prediction_error.detach().numpy()\n",
    "    \n",
    "RMSE = RMSELoss()"
   ]
  },
  {
   "cell_type": "code",
   "execution_count": 82,
   "metadata": {},
   "outputs": [],
   "source": [
    "class BPR(nn.Module):\n",
    "    def __init__(self, n_users, n_items, dim, weight_decay):\n",
    "        super().__init__()\n",
    "        self.W = nn.Parameter(torch.empty(n_users, dim))\n",
    "        self.H = nn.Parameter(torch.empty(n_items, dim))\n",
    "        nn.init.xavier_normal_(self.W.data)\n",
    "        nn.init.xavier_normal_(self.H.data)\n",
    "        self.weight_decay = weight_decay\n",
    "\n",
    "    def forward(self, u, i, j):\n",
    "        u = self.W[u, :]\n",
    "        i = self.H[i, :]\n",
    "        j = self.H[j, :]\n",
    "        x_ui = torch.matmul(u, i.T)\n",
    "        x_uj = torch.matmul(u, j.T)\n",
    "        x_uij = x_ui - x_uj\n",
    "        log_prob = torch.sigmoid(x_uij).sum()\n",
    "        regularization = self.weight_decay * (u.norm(p = 2) + i.norm(p = 2) + j.norm(p=2))\n",
    "        return -log_prob + regularization\n",
    "\n",
    "    def recommend(self, u):\n",
    "        u = self.W[u, :]\n",
    "        x_ui = torch.matmul(u, self.H.t())\n",
    "        pred = torch.argsort(x_ui)\n",
    "        return pred"
   ]
  },
  {
   "cell_type": "code",
   "execution_count": 83,
   "metadata": {},
   "outputs": [],
   "source": [
    "bpr = BPR(n_users, n_movies, 10, 0.9)"
   ]
  },
  {
   "cell_type": "code",
   "execution_count": 84,
   "metadata": {},
   "outputs": [
    {
     "data": {
      "text/plain": [
       "tensor([ 856, 3660, 3038,  ..., 1866,  762,  438])"
      ]
     },
     "execution_count": 84,
     "metadata": {},
     "output_type": "execute_result"
    }
   ],
   "source": [
    "bpr.recommend(0)"
   ]
  }
 ],
 "metadata": {
  "kernelspec": {
   "display_name": "graph",
   "language": "python",
   "name": "python3"
  },
  "language_info": {
   "codemirror_mode": {
    "name": "ipython",
    "version": 3
   },
   "file_extension": ".py",
   "mimetype": "text/x-python",
   "name": "python",
   "nbconvert_exporter": "python",
   "pygments_lexer": "ipython3",
   "version": "3.10.9"
  }
 },
 "nbformat": 4,
 "nbformat_minor": 2
}
