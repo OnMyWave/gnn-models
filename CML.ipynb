{
 "cells": [
  {
   "cell_type": "code",
   "execution_count": 2,
   "metadata": {},
   "outputs": [],
   "source": [
    "import random\n",
    "import pandas as pd\n",
    "import numpy as np\n",
    "import torch\n",
    "import torch.nn as nn\n",
    "import torch.nn.functional as F\n",
    "import matplotlib.pyplot as plt\n",
    "from math import floor"
   ]
  },
  {
   "cell_type": "code",
   "execution_count": 3,
   "metadata": {},
   "outputs": [],
   "source": [
    "if torch.cuda.is_available():\n",
    "    device = torch.device('cuda')\n",
    "elif hasattr(torch.backends, 'mps') and torch.backends.mps.is_available():\n",
    "    device = torch.device('mps')\n",
    "else:\n",
    "    device = torch.device('cpu')\n"
   ]
  },
  {
   "cell_type": "code",
   "execution_count": 4,
   "metadata": {},
   "outputs": [],
   "source": [
    "path = '../data/ml-1m/'\n",
    "\n",
    "movies = pd.read_csv(path + 'movies.dat', sep = '::', engine = 'python', encoding = 'latin-1', names = ['movie_id', 'title', 'genres'])\n",
    "ratings = pd.read_csv(path + 'ratings.dat', sep = '::', engine = 'python', encoding = 'latin-1', names = ['user_id', 'movie_id', 'rating', 'time'])\n",
    "users = pd.read_csv(path + 'users.dat', sep = '::', engine = 'python', encoding = 'latin-1', names = ['user_id', 'gender', 'age', 'occupation', 'zipcode'])\n"
   ]
  },
  {
   "cell_type": "code",
   "execution_count": 5,
   "metadata": {},
   "outputs": [],
   "source": [
    "pivot_matrix = ratings.pivot(index='user_id', columns='movie_id', values='rating')\n",
    "original_rating_matrix = ratings.pivot(index='user_id', columns='movie_id', values='rating')\n",
    "\n",
    "n_users, n_movies = pivot_matrix.values.shape\n",
    "pivot_notna = pivot_matrix.notna()"
   ]
  },
  {
   "cell_type": "code",
   "execution_count": 6,
   "metadata": {},
   "outputs": [],
   "source": [
    "def train_test_split(matrix, validation_ratio, test_ratio, random_seed = 42):\n",
    "    random.seed(random_seed)\n",
    "    n_rows, _ = matrix.shape\n",
    "    train_dataset, test_dataset, valid_dataset = np.zeros_like(matrix), np.zeros_like(matrix), np.zeros_like(matrix)\n",
    "    \n",
    "    \n",
    "    for i in range(n_rows):\n",
    "        true_indices = np.argwhere(matrix[i, :])\n",
    "        np.random.shuffle(true_indices)\n",
    "\n",
    "        num_valid = int(len(true_indices) * validation_ratio)\n",
    "        num_test = int(len(true_indices) * test_ratio)\n",
    "        \n",
    "        row_test_indices = true_indices[:num_test].tolist()\n",
    "        row_valid_indices = true_indices[num_test:num_test + num_valid].tolist()\n",
    "        row_train_indices = true_indices[num_test + num_valid:].tolist()\n",
    "\n",
    "        train_dataset[i, [row_train_indices]] = 1\n",
    "        test_dataset[i, [row_test_indices]] = 1\n",
    "        valid_dataset[i, [row_valid_indices]] = 1\n",
    "    \n",
    "    return train_dataset, test_dataset, valid_dataset\n",
    "\n",
    "bin_train_data, bin_test_data, bin_valid_data = train_test_split(pivot_notna.values, 0.2, 0.2)"
   ]
  },
  {
   "cell_type": "markdown",
   "metadata": {},
   "source": [
    "# CML without F (Not included Item-Features)"
   ]
  },
  {
   "cell_type": "code",
   "execution_count": 36,
   "metadata": {},
   "outputs": [],
   "source": [
    "class CML(nn.Module):\n",
    "    def __init__(self, n_users, n_items, dim = 100, lambda_f = 0.5, lambda_c = 10):\n",
    "        super().__init__()\n",
    "        self.users = nn.Parameter(torch.randn(n_users, dim))\n",
    "        self.items = nn.Parameter(torch.randn(n_items, dim))\n",
    "        self.lambda_f = lambda_f\n",
    "        self.lambda_c = lambda_c\n",
    "\n",
    "    def forward(self, i, j):\n",
    "        dist = (self.users[i] - self.items[j]).norm(2)\n",
    "        return dist\n",
    "\n",
    "    def calculate_dist(self, i):\n",
    "        diff = self.items - self.users[i]\n",
    "        return torch.norm(diff, p=2, dim = 1)"
   ]
  },
  {
   "cell_type": "code",
   "execution_count": 37,
   "metadata": {},
   "outputs": [],
   "source": [
    "cml = CML(n_users, n_movies)\n",
    "optimizer = torch.optim.Adagrad(cml.parameters(), lr=0.001)"
   ]
  },
  {
   "cell_type": "code",
   "execution_count": 38,
   "metadata": {},
   "outputs": [],
   "source": [
    "pivot_matrix[pivot_matrix.isnull()] = 0\n",
    "\n",
    "dataset = pivot_matrix.values\n"
   ]
  },
  {
   "cell_type": "code",
   "execution_count": 39,
   "metadata": {},
   "outputs": [],
   "source": [
    "train_indices = np.argwhere(dataset)\n",
    "\n",
    "NUM_EPOCHS = 10\n",
    "BATCH_SIZE = 32\n",
    "U_SAMPLE_SIZE = 32\n",
    "MARGIN = 5\n",
    "\n",
    "for epoch in range(NUM_EPOCHS): # EPOCHS : Until Converge\n",
    "    random.shuffle(train_indices)\n",
    "    positive_samples = train_indices[:BATCH_SIZE]\n",
    "\n",
    "    ranking_matrix = np.zeros((n_users, n_movies))\n",
    "    mini_batch_loss = 0\n",
    "\n",
    "    optimizer.zero_grad()\n",
    "\n",
    "    for sample in positive_samples: # MINI_BATCH\n",
    "        sample_loss, num_impostor = 0, 0 \n",
    "        row_idx, col_idx = sample\n",
    "        dist_ij = cml(row_idx, col_idx)\n",
    "        negative_samples = np.argwhere(dataset[row_idx, :] == 0)\n",
    "        random.shuffle(negative_samples)\n",
    "        u_negative_samples = negative_samples[:U_SAMPLE_SIZE]\n",
    "        \n",
    "        for negative_sample in u_negative_samples:\n",
    "            dist_ik = cml(row_idx, negative_sample[0])\n",
    "            \n",
    "            hinge_loss = MARGIN + dist_ij - dist_ik \n",
    "\n",
    "            if hinge_loss:\n",
    "                num_impostor += 1\n",
    "                sample_loss += hinge_loss\n",
    "\n",
    "        rank_ij = floor(n_movies * num_impostor / U_SAMPLE_SIZE) # floor(J * M / U)\n",
    "        ranking_matrix[row_idx, col_idx] =  rank_ij \n",
    "        mini_batch_loss += rank_ij * sample_loss\n",
    "\n",
    "    mini_batch_loss.backward()\n",
    "    optimizer.step()\n",
    "    with torch.no_grad():\n",
    "        for param in cml.parameters():\n",
    "            if param.requires_grad:\n",
    "                # Normalize the parameter\n",
    "                param.copy_(F.normalize(param, p=2, dim=0))\n"
   ]
  },
  {
   "cell_type": "code",
   "execution_count": 40,
   "metadata": {},
   "outputs": [],
   "source": [
    "from collections import defaultdict\n",
    "\n",
    "recommendations = defaultdict(list)\n",
    "relevant_items = defaultdict(list)\n"
   ]
  },
  {
   "cell_type": "code",
   "execution_count": 41,
   "metadata": {},
   "outputs": [],
   "source": [
    "positive_dataset = pivot_matrix[pivot_matrix >= 4].values\n",
    "\n",
    "for i in range(n_users):\n",
    "    relevant_items[i] = np.argwhere(positive_dataset[i, :]).squeeze(1)\n",
    "    recommendations[i] = cml.calculate_dist(i).tolist()\n"
   ]
  },
  {
   "cell_type": "code",
   "execution_count": 42,
   "metadata": {},
   "outputs": [],
   "source": [
    "def calculate_recall_at_k(recommendations, relevant_items, k):\n",
    "    recall_scores = []\n",
    "\n",
    "    for user_id, recommended_items in recommendations.items():\n",
    "        if user_id in relevant_items:\n",
    "            top_k_recommended = set(np.argsort(recommended_items)[::-1][:k])\n",
    "            user_relevant_items = relevant_items[user_id]\n",
    "\n",
    "            recall = len(top_k_recommended.intersection(user_relevant_items)) / len(user_relevant_items)\n",
    "            recall_scores.append(recall)\n",
    "\n",
    "    average_recall = sum(recall_scores) / len(recall_scores)\n",
    "    return average_recall\n"
   ]
  },
  {
   "cell_type": "code",
   "execution_count": 43,
   "metadata": {},
   "outputs": [
    {
     "data": {
      "text/plain": [
       "0.013491635186184675"
      ]
     },
     "execution_count": 43,
     "metadata": {},
     "output_type": "execute_result"
    }
   ],
   "source": [
    "calculate_recall_at_k(recommendations, relevant_items, 50)"
   ]
  },
  {
   "cell_type": "code",
   "execution_count": 44,
   "metadata": {},
   "outputs": [
    {
     "data": {
      "text/plain": [
       "0.02698327037236935"
      ]
     },
     "execution_count": 44,
     "metadata": {},
     "output_type": "execute_result"
    }
   ],
   "source": [
    "calculate_recall_at_k(recommendations, relevant_items, 100)"
   ]
  }
 ],
 "metadata": {
  "kernelspec": {
   "display_name": "graph",
   "language": "python",
   "name": "python3"
  },
  "language_info": {
   "codemirror_mode": {
    "name": "ipython",
    "version": 3
   },
   "file_extension": ".py",
   "mimetype": "text/x-python",
   "name": "python",
   "nbconvert_exporter": "python",
   "pygments_lexer": "ipython3",
   "version": "3.10.9"
  }
 },
 "nbformat": 4,
 "nbformat_minor": 2
}
